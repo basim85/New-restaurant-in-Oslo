{
 "cells": [
  {
   "cell_type": "markdown",
   "metadata": {},
   "source": [
    "New restaurant in Oslo\n",
    "\n",
    "\n",
    "Introduction:\n",
    "     I am planning to open a new restaurant in Oslo city. Oslo is the capital city of Norway with an estimated population of 1.71 million in 2020. Oslo is a multicultural city and many other people who came from different countries have added to its diversity. Different people have different cultures and their preferences for food vary accordingly. There are many restaurants offering various types of cuisines in Oslo. The most common are Italian, Mexican, Turkish, Pakistani and Indian. The aim of this project is to study the neighbourhoods in Oslo to determine possible locations for opening a restaurant. I am looking for an investor to support my venture and to convince her or him I must analyse the neighbourhoods where there are too few cafes and restaurants.\n",
    "\n",
    "\n",
    "Description of the problem:\n",
    "As the climate of Oslo is extremely cold in winters, many residents don’t like to go to faraway places for lunch and dinner. Moreover, people working in offices like to get meals delivered from nearby during lunch time.  Many expatriate complain about the limited restaurant and lack of wide variety of food options according to their culinary tastes.\n",
    "In order to open a restaurant in Oslo, we require a lot of data about locations and population of different areas to ensure maximum customers and people’s interest.  Data analysis is a crucial aspect of developing a strong methodology to explore where to open this business based on analysis of different types of restaurants, demand for different types of food and their locations. Population of different areas and number of restaurants is also an integral part of this project. More consideration will be given on these areas where population density is high and the number of restaurants is low.\n",
    "\n",
    "\n",
    "Description of the Data:\n",
    "  As mentioned above, for this project, location and population are the two key factors which will help to analyse different scenarios for finalized the location of the restaurant. In this regard the data required for this project has been collected from three main sources – Statistics Norway, Wikipedia and Foursquare. From Statistics Norway, I will use the dataset Immigrants and Norwegian-born with immigrant parents to explore the number of immigrants in various areas. This can give us some idea about their tastebuds and culinary preferences, based on the percentages in different locations. I will get the basic information for all the neighbourhoods in the city from Wikipedia. By using foursquare API, I will explore different types of existing cafes and restaurants in different neighbourhoods and information about their approval ratings, etc. \n",
    "\n",
    "The data will be read into a pandas data frame using the read_html () method. I will use different types of data visualisation techniques to explore neighbourhoods and analyse different coordinates (latitude, longitude) for different locations. Juxtaposing this information and leveraging the data will give us a solid comparison of various neighbourhoods in order for us to obtain an answer to the problem defined above: to determine which location is the most suitable for restaurant. \n",
    "\n",
    "\n",
    "\n",
    " \n",
    " \n"
   ]
  },
  {
   "cell_type": "code",
   "execution_count": null,
   "metadata": {},
   "outputs": [],
   "source": []
  }
 ],
 "metadata": {
  "kernelspec": {
   "display_name": "Python 3",
   "language": "python",
   "name": "python3"
  },
  "language_info": {
   "codemirror_mode": {
    "name": "ipython",
    "version": 3
   },
   "file_extension": ".py",
   "mimetype": "text/x-python",
   "name": "python",
   "nbconvert_exporter": "python",
   "pygments_lexer": "ipython3",
   "version": "3.7.6"
  }
 },
 "nbformat": 4,
 "nbformat_minor": 4
}
